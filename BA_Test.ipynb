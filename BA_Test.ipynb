{
  "nbformat": 4,
  "nbformat_minor": 0,
  "metadata": {
    "colab": {
      "provenance": [],
      "authorship_tag": "ABX9TyM2M/Ayy2Z5Qz8NBFE7XkDU",
      "include_colab_link": true
    },
    "kernelspec": {
      "name": "python3",
      "display_name": "Python 3"
    },
    "language_info": {
      "name": "python"
    }
  },
  "cells": [
    {
      "cell_type": "markdown",
      "metadata": {
        "id": "view-in-github",
        "colab_type": "text"
      },
      "source": [
        "<a href=\"https://colab.research.google.com/github/Louisfhgr/Dash.py/blob/master/BA_Test.ipynb\" target=\"_parent\"><img src=\"https://colab.research.google.com/assets/colab-badge.svg\" alt=\"Open In Colab\"/></a>"
      ]
    },
    {
      "cell_type": "markdown",
      "source": [
        "## mit venv arbeiten möglich??"
      ],
      "metadata": {
        "id": "oPs95XXbKr7c"
      }
    },
    {
      "cell_type": "markdown",
      "source": [
        "# README\n",
        "\n",
        "`physics-computer` ist eine Python-Package, welches verschiedene physikalische Grössen, wie Geschwindigkeit,\n",
        "Beschleunigungen etc. von Ski- und Langläufern ausgestattet mit einem Bewegungssensor, berechnet.\n",
        "\n",
        "## Installation\n",
        "\n",
        "```\n",
        "pip install physics_computer-0.0.1-py3-none-any.whl\n",
        "```\n",
        "\n",
        "Für eine korrekte Installation muss die gewünschte virtuelle Umgebung aktiviert sein, damit das der `PhysicsComputer`\n",
        "an die richtige Stelle installiert wird.\n",
        "\n",
        "## Anwendung\n",
        "\n",
        "```python\n",
        "import pandas as pd\n",
        "from physics_computer.ski_alpine import SkiAlpine\n",
        "from physics_computer.ski_xc import SkiCrossCountry\n",
        "\n",
        "df = pd.read_csv(\"/data/raw_data_file.cvs\")\n",
        "\n",
        "alpine = SkiAlpine(df=df)\n",
        "df_modified = alpine.compute()\n",
        "\n",
        "# oder\n",
        "\n",
        "xc = SkiCrossCountry(df=df)\n",
        "df_modified = xc.compute()\n",
        "```\n",
        "\n",
        "Genauere Beschreibungen können der Packet-internen Beschreibung entnommen werden.\n",
        "\n",
        "\n",
        "## Für Entwickler\n",
        "\n",
        "Die Klasse `PhysicsComputer` ist die abstrakte Elternklasse. Von ihr werden keine direkten Instanzen erstellt, aber sie\n",
        "hält alle Methoden, welche die Kind-Klassen `SkiAlpine` und `SkiCrossCountry` gemeinsam halten. Sind die Methoden spezifisch\n",
        "für Alpine oder Langlauf, werden sie in der entsprechenden Kind-Klasse implementiert. Die Methode `compute()` führt\n",
        "dann alle Berechnungen seriell für die entsprechende Instanz durch.\n",
        "\n",
        "Der `PhysicsComputer` (resp. seine Kind-Klassen) erhalten jeweils einen pandas DataFrame als Input. Dieser ist immer ein einziger\n",
        "Run eines einzelnen Athleten oder Athletin\n",
        "\n",
        "Um ein neues Package zu erstellen, in `setup.py` die Versionsnummer hochzählen und im Terminal\n",
        "```\n",
        "python setup.py bdist_wheel\n",
        "```\n",
        "ausführen."
      ],
      "metadata": {
        "id": "nV0dT9l3LvLt"
      }
    },
    {
      "cell_type": "code",
      "source": [],
      "metadata": {
        "id": "r_f7g4WjJBZD"
      },
      "execution_count": null,
      "outputs": []
    },
    {
      "cell_type": "code",
      "source": [],
      "metadata": {
        "id": "GQsDMi9aJBQ7"
      },
      "execution_count": null,
      "outputs": []
    },
    {
      "cell_type": "markdown",
      "source": [
        "## Code lernen, Parameter Savitzky Golay"
      ],
      "metadata": {
        "id": "Z90iM--oKsWD"
      }
    },
    {
      "cell_type": "markdown",
      "source": [
        "## Resultate visualisieren"
      ],
      "metadata": {
        "id": "Nn1hVMDlLLlV"
      }
    }
  ]
}