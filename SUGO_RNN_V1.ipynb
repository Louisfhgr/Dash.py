{
  "nbformat": 4,
  "nbformat_minor": 0,
  "metadata": {
    "colab": {
      "provenance": [],
      "authorship_tag": "ABX9TyNjwpaoECL6TKFlJcluU/uF",
      "include_colab_link": true
    },
    "kernelspec": {
      "name": "python3",
      "display_name": "Python 3"
    },
    "language_info": {
      "name": "python"
    }
  },
  "cells": [
    {
      "cell_type": "markdown",
      "metadata": {
        "id": "view-in-github",
        "colab_type": "text"
      },
      "source": [
        "<a href=\"https://colab.research.google.com/github/Louisfhgr/Dash.py/blob/master/SUGO_RNN_V1.ipynb\" target=\"_parent\"><img src=\"https://colab.research.google.com/assets/colab-badge.svg\" alt=\"Open In Colab\"/></a>"
      ]
    },
    {
      "cell_type": "markdown",
      "source": [
        "## Projekt SUGO RNN\n"
      ],
      "metadata": {
        "id": "gX2mx_icFU2p"
      }
    },
    {
      "cell_type": "markdown",
      "source": [
        "### Datenfluss"
      ],
      "metadata": {
        "id": "i5c5oIuIFkzH"
      }
    },
    {
      "cell_type": "markdown",
      "source": [
        "#### Datenfluss automatisiert"
      ],
      "metadata": {
        "id": "tZdpwGNuFuKZ"
      }
    },
    {
      "cell_type": "code",
      "source": [],
      "metadata": {
        "id": "gHX6UkN_FstV"
      },
      "execution_count": null,
      "outputs": []
    },
    {
      "cell_type": "code",
      "execution_count": null,
      "metadata": {
        "id": "cIKjqzewFMuZ"
      },
      "outputs": [],
      "source": []
    },
    {
      "cell_type": "markdown",
      "source": [
        "Datenfluss manuell (csv)"
      ],
      "metadata": {
        "id": "pKUZbvtzF2Ay"
      }
    },
    {
      "cell_type": "code",
      "source": [],
      "metadata": {
        "id": "jhqiZ_YrFTWi"
      },
      "execution_count": null,
      "outputs": []
    },
    {
      "cell_type": "code",
      "source": [],
      "metadata": {
        "id": "l85g1RvQFTfx"
      },
      "execution_count": null,
      "outputs": []
    },
    {
      "cell_type": "markdown",
      "source": [
        "#### Wetterdaten"
      ],
      "metadata": {
        "id": "YInsdQeKGPqg"
      }
    },
    {
      "cell_type": "code",
      "source": [],
      "metadata": {
        "id": "we8JMpw7GPYp"
      },
      "execution_count": null,
      "outputs": []
    },
    {
      "cell_type": "code",
      "source": [],
      "metadata": {
        "id": "zEZs1vB0GPRO"
      },
      "execution_count": null,
      "outputs": []
    },
    {
      "cell_type": "markdown",
      "source": [
        "### Explorative Datenanalyse"
      ],
      "metadata": {
        "id": "P0k9GWmIF8r4"
      }
    },
    {
      "cell_type": "markdown",
      "source": [
        "#### SUGO Artikel (SAP)"
      ],
      "metadata": {
        "id": "ArAp3DINGCEp"
      }
    },
    {
      "cell_type": "code",
      "source": [],
      "metadata": {
        "id": "LQNLr0IOFTi4"
      },
      "execution_count": null,
      "outputs": []
    },
    {
      "cell_type": "code",
      "source": [],
      "metadata": {
        "id": "hUhjD-JrFTmS"
      },
      "execution_count": null,
      "outputs": []
    },
    {
      "cell_type": "markdown",
      "source": [
        "#### Wetterdaten"
      ],
      "metadata": {
        "id": "RHbOCYSjGJyB"
      }
    },
    {
      "cell_type": "code",
      "source": [],
      "metadata": {
        "id": "Lclasb6aFToy"
      },
      "execution_count": null,
      "outputs": []
    },
    {
      "cell_type": "code",
      "source": [],
      "metadata": {
        "id": "ECsmV6M1FTtx"
      },
      "execution_count": null,
      "outputs": []
    },
    {
      "cell_type": "markdown",
      "source": [
        "## KI Modelle"
      ],
      "metadata": {
        "id": "0y5DCWHZGXyJ"
      }
    },
    {
      "cell_type": "code",
      "source": [],
      "metadata": {
        "id": "C1dfHIcjGXWr"
      },
      "execution_count": null,
      "outputs": []
    },
    {
      "cell_type": "code",
      "source": [],
      "metadata": {
        "id": "3EkGnNDiFTwS"
      },
      "execution_count": null,
      "outputs": []
    },
    {
      "cell_type": "markdown",
      "source": [
        "## Modell Evaluation"
      ],
      "metadata": {
        "id": "gldSbrdkGedQ"
      }
    },
    {
      "cell_type": "code",
      "source": [],
      "metadata": {
        "id": "KGVIOf6zFTyo"
      },
      "execution_count": null,
      "outputs": []
    },
    {
      "cell_type": "code",
      "source": [],
      "metadata": {
        "id": "mRoZNX1lFT1p"
      },
      "execution_count": null,
      "outputs": []
    }
  ]
}