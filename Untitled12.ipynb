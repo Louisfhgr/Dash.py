{
  "nbformat": 4,
  "nbformat_minor": 0,
  "metadata": {
    "colab": {
      "provenance": [],
      "authorship_tag": "ABX9TyPdJpdU40gew07cTag40/Gt",
      "include_colab_link": true
    },
    "kernelspec": {
      "name": "python3",
      "display_name": "Python 3"
    },
    "language_info": {
      "name": "python"
    }
  },
  "cells": [
    {
      "cell_type": "markdown",
      "metadata": {
        "id": "view-in-github",
        "colab_type": "text"
      },
      "source": [
        "<a href=\"https://colab.research.google.com/github/Louisfhgr/Dash.py/blob/master/Untitled12.ipynb\" target=\"_parent\"><img src=\"https://colab.research.google.com/assets/colab-badge.svg\" alt=\"Open In Colab\"/></a>"
      ]
    },
    {
      "cell_type": "code",
      "source": [
        "%pip install meteostat"
      ],
      "metadata": {
        "colab": {
          "base_uri": "https://localhost:8080/"
        },
        "id": "au3d1kBnW6LG",
        "outputId": "5ab0a6f0-018c-4e0d-c526-e69ed01d307d"
      },
      "execution_count": 2,
      "outputs": [
        {
          "output_type": "stream",
          "name": "stdout",
          "text": [
            "Collecting meteostat\n",
            "  Downloading meteostat-1.6.8-py3-none-any.whl.metadata (4.6 kB)\n",
            "Requirement already satisfied: pandas>=1.1 in /usr/local/lib/python3.10/dist-packages (from meteostat) (2.1.4)\n",
            "Requirement already satisfied: pytz in /usr/local/lib/python3.10/dist-packages (from meteostat) (2024.2)\n",
            "Requirement already satisfied: numpy in /usr/local/lib/python3.10/dist-packages (from meteostat) (1.26.4)\n",
            "Requirement already satisfied: python-dateutil>=2.8.2 in /usr/local/lib/python3.10/dist-packages (from pandas>=1.1->meteostat) (2.8.2)\n",
            "Requirement already satisfied: tzdata>=2022.1 in /usr/local/lib/python3.10/dist-packages (from pandas>=1.1->meteostat) (2024.1)\n",
            "Requirement already satisfied: six>=1.5 in /usr/local/lib/python3.10/dist-packages (from python-dateutil>=2.8.2->pandas>=1.1->meteostat) (1.16.0)\n",
            "Downloading meteostat-1.6.8-py3-none-any.whl (31 kB)\n",
            "Installing collected packages: meteostat\n",
            "Successfully installed meteostat-1.6.8\n"
          ]
        }
      ]
    },
    {
      "cell_type": "code",
      "execution_count": 3,
      "metadata": {
        "id": "BDUWN7ydWzzB"
      },
      "outputs": [],
      "source": [
        "import sys\n",
        "import pandas as pd\n",
        "import random\n",
        "import numpy as np\n",
        "import requests\n",
        "from datetime import datetime, timedelta\n",
        "import os\n",
        "#from google.colab import files\n",
        "from meteostat import Point, Daily\n",
        "from datetime import datetime\n",
        "import seaborn as sns\n",
        "\n",
        "import matplotlib.pyplot as plt\n",
        "\n",
        "\n",
        "import openpyxl\n",
        "\n",
        "from sklearn.preprocessing import MinMaxScaler\n",
        "import tensorflow as tf\n",
        "from tensorflow.keras.models import Sequential\n",
        "from tensorflow.keras.layers import LSTM, Dense, Dropout"
      ]
    },
    {
      "cell_type": "code",
      "source": [
        "# Standort  (St. Gallen, Schweiz)\n",
        "location = Point(47.4239, 9.3748)\n",
        "\n",
        "# Zeitraum 2022-2024\n",
        "start = datetime(2022, 1, 1)\n",
        "end = datetime(2024, 8, 25)\n",
        "\n",
        "data = Daily(location, start, end)\n",
        "data = data.fetch()\n",
        "\n",
        "# Die 'date' Spalte hinzufügen (aus dem Index extrahieren)\n",
        "data['date'] = data.index\n",
        "\n",
        "# Ordner erstellen, falls er nicht existiert\n",
        "folder_path = 'csv_Daten'\n",
        "if not os.path.exists(folder_path):\n",
        "    os.makedirs(folder_path)\n",
        "\n",
        "# Dateipfad für die CSV-Datei\n",
        "file_path = os.path.join(folder_path, 'st_gallen_weather_2022_2023_2024_years_meteostat.csv')\n",
        "\n",
        "# Daten in CSV speichern\n",
        "data.to_csv(file_path, index=False)\n",
        "\n",
        "\n",
        "\n",
        "print(f\"Die Wetterdaten wurden erfolgreich in '{file_path}' gespeichert.\")\n"
      ],
      "metadata": {
        "colab": {
          "base_uri": "https://localhost:8080/"
        },
        "id": "CQQxJupeXECy",
        "outputId": "c2779252-3b31-43eb-a2f6-123c27b62216"
      },
      "execution_count": 4,
      "outputs": [
        {
          "output_type": "stream",
          "name": "stdout",
          "text": [
            "Die Wetterdaten wurden erfolgreich in 'csv_Daten/st_gallen_weather_2022_2023_2024_years_meteostat.csv' gespeichert.\n"
          ]
        }
      ]
    },
    {
      "cell_type": "code",
      "source": [
        "# Ordnerstruktur ausgeben\n",
        "print(\"Aktueller Ordneraufbau:\")\n",
        "for root, dirs, files in os.walk('.'):\n",
        "    level = root.replace('.', '').count(os.sep)\n",
        "    indent = ' ' * 4 * level\n",
        "    print(f\"{indent}{os.path.basename(root)}/\")\n",
        "    sub_indent = ' ' * 4 * (level + 1)\n",
        "    for f in files:\n",
        "        print(f\"{sub_indent}{f}\")"
      ],
      "metadata": {
        "colab": {
          "base_uri": "https://localhost:8080/"
        },
        "id": "E3nzzF4pXJJ2",
        "outputId": "1406d9a9-1e03-4d4e-c86b-ac670d7c44ea"
      },
      "execution_count": 5,
      "outputs": [
        {
          "output_type": "stream",
          "name": "stdout",
          "text": [
            "Aktueller Ordneraufbau:\n",
            "./\n",
            "    .config/\n",
            "        .last_opt_in_prompt.yaml\n",
            "        hidden_gcloud_config_universe_descriptor_data_cache_configs.db\n",
            "        config_sentinel\n",
            "        default_configs.db\n",
            "        .last_survey_prompt.yaml\n",
            "        gce\n",
            "        .last_update_check.json\n",
            "        active_config\n",
            "        configurations/\n",
            "            config_default\n",
            "        logs/\n",
            "            2024.09.25/\n",
            "                18.23.16.379542.log\n",
            "                18.23.58.041880.log\n",
            "                18.23.40.958965.log\n",
            "                18.23.56.396629.log\n",
            "                18.24.13.190037.log\n",
            "                18.24.13.969738.log\n",
            "    csv_Daten/\n",
            "        st_gallen_weather_2022_2023_2024_years_meteostat.csv\n",
            "    sample_data/\n",
            "        anscombe.json\n",
            "        README.md\n",
            "        mnist_train_small.csv\n",
            "        mnist_test.csv\n",
            "        california_housing_test.csv\n",
            "        california_housing_train.csv\n"
          ]
        }
      ]
    }
  ]
}